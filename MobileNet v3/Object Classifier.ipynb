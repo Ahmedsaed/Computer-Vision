{
 "cells": [
  {
   "cell_type": "code",
   "execution_count": null,
   "metadata": {},
   "outputs": [],
   "source": [
    "import cv2\n",
    "import matplotlib.pyplot as plt"
   ]
  },
  {
   "cell_type": "markdown",
   "metadata": {},
   "source": [
    "# Load Model"
   ]
  },
  {
   "cell_type": "code",
   "execution_count": null,
   "metadata": {},
   "outputs": [],
   "source": [
    "configFile = 'config-mobilenet v3\\ssd_mobilenet_v3_large_coco_2020_01_14.pbtxt'\n",
    "frozen_model = 'ssd_mobilenet_v3_large_coco_2020_01_14\\\\ssd_mobilenet_v3_large_coco_2020_01_14\\\\frozen_inference_graph.pb'"
   ]
  },
  {
   "cell_type": "code",
   "execution_count": null,
   "metadata": {},
   "outputs": [],
   "source": [
    "model = cv2.dnn_DetectionModel(frozen_model, configFile)"
   ]
  },
  {
   "cell_type": "code",
   "execution_count": null,
   "metadata": {},
   "outputs": [],
   "source": [
    "classList = []\n",
    "Labels = 'Labels.txt'\n",
    "with open(Labels) as input:\n",
    "    classList = input.read().splitlines()"
   ]
  },
  {
   "cell_type": "code",
   "execution_count": null,
   "metadata": {},
   "outputs": [],
   "source": [
    "model.setInputSize(320,320)\n",
    "model.setInputScale(1.0/127.5)\n",
    "model.setInputMean(127.5)\n",
    "model.setInputSwapRB(True)"
   ]
  },
  {
   "cell_type": "markdown",
   "metadata": {},
   "source": [
    "# Load Image"
   ]
  },
  {
   "cell_type": "code",
   "execution_count": null,
   "metadata": {},
   "outputs": [],
   "source": [
    "img = cv2.imread('Images/photo2.jpg')\n",
    "plt.imshow(cv2.cvtColor(img, cv2.COLOR_BGR2RGB))\n",
    "imgSize = tuple(img.shape[1::-1])\n",
    "imgReSize = (int(imgSize[0]/5), int(imgSize[1]/5))"
   ]
  },
  {
   "cell_type": "markdown",
   "metadata": {},
   "source": [
    "# Object Detection On Image"
   ]
  },
  {
   "cell_type": "code",
   "execution_count": null,
   "metadata": {},
   "outputs": [],
   "source": [
    "classIndex, confidence, box = model.detect(img, confThreshold=0.5)"
   ]
  },
  {
   "cell_type": "code",
   "execution_count": null,
   "metadata": {},
   "outputs": [],
   "source": [
    "fontSize = 10\n",
    "font = cv2.FONT_HERSHEY_PLAIN\n",
    "\n",
    "for ClassItem, conf, classBox in zip(classIndex, confidence, box):\n",
    "    if ClassItem > 80:\n",
    "        continue\n",
    "    print(\"Class: \" + str(classList[ClassItem- 1]) + \", Confidence: \" + str(round(conf * 100, 2)) + \"%\")\n",
    "    cv2.rectangle(img, classBox, (0,0,0), 10)\n",
    "    cv2.putText(img, classList[ClassItem- 1], (classBox[0]+10, classBox[1]+100), font, fontSize, (0,0,255), thickness=10)\n",
    "\n",
    "img = cv2.resize(img, imgReSize)\n",
    "cv2.imshow(\"Objects: \",img)\n",
    "cv2.waitKey(0) \n",
    "cv2.destroyAllWindows() \n"
   ]
  },
  {
   "cell_type": "markdown",
   "metadata": {},
   "source": [
    "# Object Detection On Video "
   ]
  },
  {
   "cell_type": "code",
   "execution_count": null,
   "metadata": {},
   "outputs": [],
   "source": [
    "video = cv2.VideoCapture('Videos/People walking in the city.mp4')\n",
    "\n",
    "# validate file\n",
    "if not video.isOpened():\n",
    "    raise IOError('Cannot open file')\n",
    "\n",
    "fontSize = 2\n",
    "font = cv2.FONT_HERSHEY_PLAIN\n",
    "\n",
    "while True:\n",
    "    _, frame = video.read()\n",
    "\n",
    "    classIndex, confidence, box = model.detect(frame, confThreshold=0.5)\n",
    "\n",
    "    if len(classIndex) != 0:\n",
    "        for ClassItem, conf, classBox in zip(classIndex, confidence, box):\n",
    "            if ClassItem > 80:\n",
    "                continue\n",
    "            print(\"Class: \" + str(classList[ClassItem- 1]) + \", Confidence: \" + str(round(conf * 100, 2)) + \"%\")\n",
    "            cv2.rectangle(frame, classBox, (0,0,0), 2)\n",
    "            cv2.putText(frame, classList[ClassItem- 1], (classBox[0]+10, classBox[1]+40), font, fontSize, (0,0,255), thickness=2)\n",
    "\n",
    "    cv2.imshow(\"Objects: \", frame)\n",
    "\n",
    "    print('frame')\n",
    "\n",
    "    if cv2.waitKey(2) & 0xFF == ord('q'):\n",
    "        break\n",
    "    \n",
    "video.release()\n",
    "cv2.destroyAllWindows() \n"
   ]
  },
  {
   "cell_type": "code",
   "execution_count": null,
   "metadata": {},
   "outputs": [],
   "source": []
  }
 ],
 "metadata": {
  "interpreter": {
   "hash": "2be5faf79681da6f2a61fdfdd5405d65d042280f7fba6178067603e3a2925119"
  },
  "kernelspec": {
   "display_name": "Python 3.10.0 64-bit",
   "language": "python",
   "name": "python3"
  },
  "language_info": {
   "codemirror_mode": {
    "name": "ipython",
    "version": 3
   },
   "file_extension": ".py",
   "mimetype": "text/x-python",
   "name": "python",
   "nbconvert_exporter": "python",
   "pygments_lexer": "ipython3",
   "version": "3.9.10"
  },
  "orig_nbformat": 4
 },
 "nbformat": 4,
 "nbformat_minor": 2
}
